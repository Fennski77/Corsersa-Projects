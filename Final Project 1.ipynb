{
  "metadata": {
    "language_info": {
      "codemirror_mode": {
        "name": "python",
        "version": 3
      },
      "file_extension": ".py",
      "mimetype": "text/x-python",
      "name": "python",
      "nbconvert_exporter": "python",
      "pygments_lexer": "ipython3",
      "version": "3.8"
    },
    "kernelspec": {
      "name": "python",
      "display_name": "Pyolite",
      "language": "python"
    }
  },
  "nbformat_minor": 4,
  "nbformat": 4,
  "cells": [
    {
      "cell_type": "markdown",
      "source": "## Final Project 1",
      "metadata": {
        "trusted": true
      }
    },
    {
      "cell_type": "markdown",
      "source": "Introduction:\n    This is the answers to the first final project. The purpose is to create and share a Jupyter notebook.\n    ",
      "metadata": {
        "trusted": true
      }
    },
    {
      "cell_type": "markdown",
      "source": "1. Julia\n2. R\n3. Scala\n4. Python",
      "metadata": {
        "trusted": true
      }
    },
    {
      "cell_type": "markdown",
      "source": "1. numpy\n2. pandas\n3. Sci-kit Learn\n4. Keras\n5. Tensor flow\n6. Scipy",
      "metadata": {
        "trusted": true
      }
    },
    {
      "cell_type": "markdown",
      "source": "Language| Tool|\n--------|------|\nPython | matplotlib|\nPython | seaborn|\nPython | pandas|",
      "metadata": {
        "trusted": true
      }
    },
    {
      "cell_type": "markdown",
      "source": "## Introduction to arithmetic expression examples\n1. 2*2\n2. 2+2\n3. 2-2\n4. 2/2",
      "metadata": {
        "trusted": true
      }
    },
    {
      "cell_type": "code",
      "source": "x=2\ny=3\na=4\nb = x+y\na*b",
      "metadata": {
        "trusted": true
      },
      "execution_count": 7,
      "outputs": [
        {
          "execution_count": 7,
          "output_type": "execute_result",
          "data": {
            "text/plain": "20"
          },
          "metadata": {}
        }
      ]
    },
    {
      "cell_type": "code",
      "source": "#165 minutes\n\n165/60",
      "metadata": {
        "trusted": true
      },
      "execution_count": 9,
      "outputs": [
        {
          "execution_count": 9,
          "output_type": "execute_result",
          "data": {
            "text/plain": "2.75"
          },
          "metadata": {}
        }
      ]
    },
    {
      "cell_type": "markdown",
      "source": "## Objectives\n1. Write basic python code\n2. Create a jupyter notebook\n3. upload jupyter notebook to github",
      "metadata": {
        "trusted": true
      }
    },
    {
      "cell_type": "markdown",
      "source": "Name: K. Fenner\n",
      "metadata": {
        "trusted": true
      }
    }
  ]
}